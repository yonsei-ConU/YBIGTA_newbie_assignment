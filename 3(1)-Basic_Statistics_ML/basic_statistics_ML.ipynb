{
 "cells": [
  {
   "cell_type": "markdown",
   "id": "4463fd60",
   "metadata": {},
   "source": [
    "# 1. Iris 데이터셋을 활용해 클래스별 변수 평균 차이를 검정"
   ]
  },
  {
   "cell_type": "markdown",
   "id": "fa2b2725",
   "metadata": {},
   "source": [
    "## 1. Iris 데이터셋 불러오고, 구조 확인"
   ]
  },
  {
   "cell_type": "code",
   "execution_count": null,
   "id": "90090e46",
   "metadata": {},
   "outputs": [],
   "source": [
    "import seaborn\n",
    "\n",
    "iris = seaborn.load_dataset(\"iris\")\n",
    "\n",
    "print(iris.head())\n",
    "print()\n",
    "print(iris.tail())\n",
    "print()\n",
    "print(iris.info())"
   ]
  },
  {
   "cell_type": "markdown",
   "id": "dd241e5a",
   "metadata": {},
   "source": [
    "## 2. 기술통계량 산출\n",
    "### Species별 Petal Length의 평균, 표준편차, 최소값, 최대값, 사분위수 등을 출력하고 그룹별 데이터 개수를 확인"
   ]
  },
  {
   "cell_type": "code",
   "execution_count": null,
   "id": "25202165",
   "metadata": {},
   "outputs": [],
   "source": [
    "import pandas\n",
    "\n",
    "moong_taeng_e = iris.groupby(\"species\")[\"petal_length\"]\n",
    "\n",
    "print(\"Maximum\")\n",
    "print(moong_taeng_e.max())\n",
    "print(\"\\nMinimum\")\n",
    "print(moong_taeng_e.min())\n",
    "print(\"\\nMean\")\n",
    "print(moong_taeng_e.mean())\n",
    "print(\"\\nSigma\")\n",
    "print(moong_taeng_e.std())\n",
    "print(\"\\nQuartile\")\n",
    "print(moong_taeng_e.agg([(\"Q1\", lambda x: x.quantile(0.25)), (\"Q2\", \"median\"), (\"Q3\", lambda x: x.quantile(0.75))]))"
   ]
  },
  {
   "cell_type": "markdown",
   "id": "f742b707",
   "metadata": {},
   "source": [
    "## 3. 시각화\n",
    "### Species별 Petal Length의 분포를 Boxplot으로 시각화하시오.\n",
    "### Boxplot 아래에 간단한 해석 코멘트를 다시오. (예: 어느 그룹이 평균이 높은지)"
   ]
  },
  {
   "cell_type": "code",
   "execution_count": null,
   "id": "7176e437",
   "metadata": {},
   "outputs": [],
   "source": [
    "from matplotlib import pyplot\n",
    "\n",
    "seaborn.boxplot(x=\"species\", y=\"petal_length\", data=iris)\n",
    "pyplot.show()\n",
    "# setosa < versicolor < virginica"
   ]
  },
  {
   "cell_type": "markdown",
   "id": "9197a2e6",
   "metadata": {},
   "source": [
    "## 4. 정규성 검정\n",
    "### Species별로 Shapiro-Wilk 검정을 실시하시오.(해당 검정에 대한 가설 수립 포함)\n",
    "### 각 그룹의 p-value를 출력하고, 0.05를 기준으로 해석하시오.\\"
   ]
  },
  {
   "cell_type": "code",
   "execution_count": null,
   "id": "1bef6412",
   "metadata": {},
   "outputs": [],
   "source": [
    "from scipy.stats import shapiro\n",
    "\n",
    "for species, mte in moong_taeng_e:\n",
    "    stat, p = shapiro(mte)\n",
    "    print(f\"p-value of {species}: {p:.6f}\")\n"
   ]
  },
  {
   "cell_type": "markdown",
   "id": "39a9aae2",
   "metadata": {},
   "source": [
    "## 5. 등분산성 검정\n",
    "### Levene 검정을 통해 3개 그룹 간 등분산성을 검정하시오. (해당 검정에 대한 가설 수립 포함)\n",
    "### p-value를 출력하고, 0.05를 기준으로 해석하시오."
   ]
  },
  {
   "cell_type": "code",
   "execution_count": null,
   "id": "de61578b",
   "metadata": {},
   "outputs": [],
   "source": [
    "from scipy.stats import levene\n",
    "\n",
    "setosa = iris[iris[\"species\"] == \"setosa\"][\"petal_length\"]\n",
    "versicolor = iris[iris[\"species\"] == \"versicolor\"][\"petal_length\"]\n",
    "virginica = iris[iris[\"species\"] == \"virginica\"][\"petal_length\"]\n",
    "stat, p = levene(setosa, versicolor, virginica)\n",
    "print(f\"p-value == {p:.6f}\")"
   ]
  },
  {
   "cell_type": "markdown",
   "id": "d18da593",
   "metadata": {},
   "source": [
    "## 6. 가설 수립\n",
    "H0: 3개의 species에 대해 petal_length의 평균이 모두 같다.  \n",
    "H1: 3개 중 적어도 하나는 petal_length의 평균이 다르다."
   ]
  },
  {
   "cell_type": "markdown",
   "id": "3b6cba76",
   "metadata": {},
   "source": [
    "## 7. ANOVA 실행\n",
    "### One-way ANOVA를 실시하시오.\n",
    "### ANOVA 표를 출력하고 F값과 p-value를 확인한 후, 유의수준 0.05 기준으로\n",
    "### 귀무가설 기각 여부를 쓰시오."
   ]
  },
  {
   "cell_type": "code",
   "execution_count": null,
   "id": "2bad28e3",
   "metadata": {},
   "outputs": [],
   "source": [
    "from scipy.stats import f_oneway\n",
    "\n",
    "# Welch ANOVA (등분산 가정 없이)\n",
    "stat, p = f_oneway(setosa, versicolor, virginica)\n",
    "print(f\"p-value == {p:.6f}\")"
   ]
  },
  {
   "cell_type": "markdown",
   "id": "7331c11f",
   "metadata": {},
   "source": [
    "## 8. 사후검정 (Tukey HSD)\n",
    "### ANOVA 결과 유의하다면 Tukey HSD 사후검정을 실시하시오.\n",
    "### 어떤 쌍 간에 유의미한 차이가 있는지 요약하시오."
   ]
  },
  {
   "cell_type": "code",
   "execution_count": null,
   "id": "ea01ebd2",
   "metadata": {},
   "outputs": [],
   "source": [
    "from statsmodels.stats.multicomp import pairwise_tukeyhsd\n",
    "\n",
    "print(pairwise_tukeyhsd(endog=iris[\"petal_length\"], groups=iris[\"species\"], alpha=0.05))"
   ]
  },
  {
   "cell_type": "markdown",
   "id": "5427a115",
   "metadata": {},
   "source": [
    "# 2. 실제 신용카드 사기 데이터셋을 활용해 클래스 불균형 상황에서 분류 모델을 학습"
   ]
  },
  {
   "cell_type": "markdown",
   "id": "1ab77e08",
   "metadata": {},
   "source": [
    "## 1. 데이터 로드 및 기본 탐색\n",
    "### creditcard.csv를 불러오고 데이터 구조를 확인하시오.\n",
    "### 정상 거래와 사기 거래 건수를 확인하시오."
   ]
  },
  {
   "cell_type": "code",
   "execution_count": 9,
   "id": "f0ff290d",
   "metadata": {},
   "outputs": [
    {
     "name": "stdout",
     "output_type": "stream",
     "text": [
      "   Time        V1        V2        V3        V4        V5        V6        V7  \\\n",
      "0   0.0 -1.359807 -0.072781  2.536347  1.378155 -0.338321  0.462388  0.239599   \n",
      "1   0.0  1.191857  0.266151  0.166480  0.448154  0.060018 -0.082361 -0.078803   \n",
      "2   1.0 -1.358354 -1.340163  1.773209  0.379780 -0.503198  1.800499  0.791461   \n",
      "3   1.0 -0.966272 -0.185226  1.792993 -0.863291 -0.010309  1.247203  0.237609   \n",
      "4   2.0 -1.158233  0.877737  1.548718  0.403034 -0.407193  0.095921  0.592941   \n",
      "\n",
      "         V8        V9  ...       V21       V22       V23       V24       V25  \\\n",
      "0  0.098698  0.363787  ... -0.018307  0.277838 -0.110474  0.066928  0.128539   \n",
      "1  0.085102 -0.255425  ... -0.225775 -0.638672  0.101288 -0.339846  0.167170   \n",
      "2  0.247676 -1.514654  ...  0.247998  0.771679  0.909412 -0.689281 -0.327642   \n",
      "3  0.377436 -1.387024  ... -0.108300  0.005274 -0.190321 -1.175575  0.647376   \n",
      "4 -0.270533  0.817739  ... -0.009431  0.798278 -0.137458  0.141267 -0.206010   \n",
      "\n",
      "        V26       V27       V28  Amount  Class  \n",
      "0 -0.189115  0.133558 -0.021053  149.62      0  \n",
      "1  0.125895 -0.008983  0.014724    2.69      0  \n",
      "2 -0.139097 -0.055353 -0.059752  378.66      0  \n",
      "3 -0.221929  0.062723  0.061458  123.50      0  \n",
      "4  0.502292  0.219422  0.215153   69.99      0  \n",
      "\n",
      "[5 rows x 31 columns]\n",
      "<class 'pandas.core.frame.DataFrame'>\n",
      "RangeIndex: 284807 entries, 0 to 284806\n",
      "Data columns (total 31 columns):\n",
      " #   Column  Non-Null Count   Dtype  \n",
      "---  ------  --------------   -----  \n",
      " 0   Time    284807 non-null  float64\n",
      " 1   V1      284807 non-null  float64\n",
      " 2   V2      284807 non-null  float64\n",
      " 3   V3      284807 non-null  float64\n",
      " 4   V4      284807 non-null  float64\n",
      " 5   V5      284807 non-null  float64\n",
      " 6   V6      284807 non-null  float64\n",
      " 7   V7      284807 non-null  float64\n",
      " 8   V8      284807 non-null  float64\n",
      " 9   V9      284807 non-null  float64\n",
      " 10  V10     284807 non-null  float64\n",
      " 11  V11     284807 non-null  float64\n",
      " 12  V12     284807 non-null  float64\n",
      " 13  V13     284807 non-null  float64\n",
      " 14  V14     284807 non-null  float64\n",
      " 15  V15     284807 non-null  float64\n",
      " 16  V16     284807 non-null  float64\n",
      " 17  V17     284807 non-null  float64\n",
      " 18  V18     284807 non-null  float64\n",
      " 19  V19     284807 non-null  float64\n",
      " 20  V20     284807 non-null  float64\n",
      " 21  V21     284807 non-null  float64\n",
      " 22  V22     284807 non-null  float64\n",
      " 23  V23     284807 non-null  float64\n",
      " 24  V24     284807 non-null  float64\n",
      " 25  V25     284807 non-null  float64\n",
      " 26  V26     284807 non-null  float64\n",
      " 27  V27     284807 non-null  float64\n",
      " 28  V28     284807 non-null  float64\n",
      " 29  Amount  284807 non-null  float64\n",
      " 30  Class   284807 non-null  int64  \n",
      "dtypes: float64(30), int64(1)\n",
      "memory usage: 67.4 MB\n",
      "None\n",
      "                Time            V1            V2            V3            V4  \\\n",
      "count  284807.000000  2.848070e+05  2.848070e+05  2.848070e+05  2.848070e+05   \n",
      "mean    94813.859575  1.175161e-15  3.384974e-16 -1.379537e-15  2.094852e-15   \n",
      "std     47488.145955  1.958696e+00  1.651309e+00  1.516255e+00  1.415869e+00   \n",
      "min         0.000000 -5.640751e+01 -7.271573e+01 -4.832559e+01 -5.683171e+00   \n",
      "25%     54201.500000 -9.203734e-01 -5.985499e-01 -8.903648e-01 -8.486401e-01   \n",
      "50%     84692.000000  1.810880e-02  6.548556e-02  1.798463e-01 -1.984653e-02   \n",
      "75%    139320.500000  1.315642e+00  8.037239e-01  1.027196e+00  7.433413e-01   \n",
      "max    172792.000000  2.454930e+00  2.205773e+01  9.382558e+00  1.687534e+01   \n",
      "\n",
      "                 V5            V6            V7            V8            V9  \\\n",
      "count  2.848070e+05  2.848070e+05  2.848070e+05  2.848070e+05  2.848070e+05   \n",
      "mean   1.021879e-15  1.494498e-15 -5.620335e-16  1.149614e-16 -2.414189e-15   \n",
      "std    1.380247e+00  1.332271e+00  1.237094e+00  1.194353e+00  1.098632e+00   \n",
      "min   -1.137433e+02 -2.616051e+01 -4.355724e+01 -7.321672e+01 -1.343407e+01   \n",
      "25%   -6.915971e-01 -7.682956e-01 -5.540759e-01 -2.086297e-01 -6.430976e-01   \n",
      "50%   -5.433583e-02 -2.741871e-01  4.010308e-02  2.235804e-02 -5.142873e-02   \n",
      "75%    6.119264e-01  3.985649e-01  5.704361e-01  3.273459e-01  5.971390e-01   \n",
      "max    3.480167e+01  7.330163e+01  1.205895e+02  2.000721e+01  1.559499e+01   \n",
      "\n",
      "       ...           V21           V22           V23           V24  \\\n",
      "count  ...  2.848070e+05  2.848070e+05  2.848070e+05  2.848070e+05   \n",
      "mean   ...  1.628620e-16 -3.576577e-16  2.618565e-16  4.473914e-15   \n",
      "std    ...  7.345240e-01  7.257016e-01  6.244603e-01  6.056471e-01   \n",
      "min    ... -3.483038e+01 -1.093314e+01 -4.480774e+01 -2.836627e+00   \n",
      "25%    ... -2.283949e-01 -5.423504e-01 -1.618463e-01 -3.545861e-01   \n",
      "50%    ... -2.945017e-02  6.781943e-03 -1.119293e-02  4.097606e-02   \n",
      "75%    ...  1.863772e-01  5.285536e-01  1.476421e-01  4.395266e-01   \n",
      "max    ...  2.720284e+01  1.050309e+01  2.252841e+01  4.584549e+00   \n",
      "\n",
      "                V25           V26           V27           V28         Amount  \\\n",
      "count  2.848070e+05  2.848070e+05  2.848070e+05  2.848070e+05  284807.000000   \n",
      "mean   5.109395e-16  1.686100e-15 -3.661401e-16 -1.227452e-16      88.349619   \n",
      "std    5.212781e-01  4.822270e-01  4.036325e-01  3.300833e-01     250.120109   \n",
      "min   -1.029540e+01 -2.604551e+00 -2.256568e+01 -1.543008e+01       0.000000   \n",
      "25%   -3.171451e-01 -3.269839e-01 -7.083953e-02 -5.295979e-02       5.600000   \n",
      "50%    1.659350e-02 -5.213911e-02  1.342146e-03  1.124383e-02      22.000000   \n",
      "75%    3.507156e-01  2.409522e-01  9.104512e-02  7.827995e-02      77.165000   \n",
      "max    7.519589e+00  3.517346e+00  3.161220e+01  3.384781e+01   25691.160000   \n",
      "\n",
      "               Class  \n",
      "count  284807.000000  \n",
      "mean        0.001727  \n",
      "std         0.041527  \n",
      "min         0.000000  \n",
      "25%         0.000000  \n",
      "50%         0.000000  \n",
      "75%         0.000000  \n",
      "max         1.000000  \n",
      "\n",
      "[8 rows x 31 columns]\n",
      "Class\n",
      "0    284315\n",
      "1       492\n",
      "Name: count, dtype: int64\n"
     ]
    }
   ],
   "source": [
    "import pandas\n",
    "\n",
    "card_data = pandas.read_csv(\"creditcard.csv\")\n",
    "print(card_data.head())\n",
    "print(card_data.info())\n",
    "print(card_data.describe())\n",
    "print(card_data[\"Class\"].value_counts())"
   ]
  },
  {
   "cell_type": "markdown",
   "id": "a952fb25",
   "metadata": {},
   "source": [
    "## 2. 샘플링\n",
    "### 사기 거래(Class=1)는 전부 유지하고, 정상 거래(Class=0)는 10,000건만 무작위\n",
    "### 샘플링하시오.(sampling 진행시, random_state는 42로 설정)\n",
    "### 두 데이터셋을 합쳐 새로운 분석용 데이터프레임으로 만드시오.\n",
    "### 샘플링 후 Class 비율을 다시 출력하시오."
   ]
  },
  {
   "cell_type": "code",
   "execution_count": 12,
   "id": "732ec13a",
   "metadata": {},
   "outputs": [
    {
     "name": "stdout",
     "output_type": "stream",
     "text": [
      "Class\n",
      "0    10000\n",
      "1      492\n",
      "Name: count, dtype: int64\n"
     ]
    }
   ],
   "source": [
    "scam_data = card_data[card_data[\"Class\"] == 1]\n",
    "normal_data = card_data[card_data[\"Class\"] == 0].sample(n=10000, random_state=42)\n",
    "new_data = pandas.concat([scam_data, normal_data])\n",
    "print(new_data[\"Class\"].value_counts())"
   ]
  },
  {
   "cell_type": "markdown",
   "id": "536e2fa5",
   "metadata": {},
   "source": [
    "## 3. 데이터 전처리\n",
    "### Amount 변수만 표준화(StandardScaler) 하여 새로운 변수 Amount_Scaled로\n",
    "### 대체하시오. Amount 원본 변수는 제거하시오.\n",
    "### 그리고 X, y로 데이터프레임을 분리하시오."
   ]
  },
  {
   "cell_type": "code",
   "execution_count": 17,
   "id": "6f946dd3",
   "metadata": {},
   "outputs": [],
   "source": [
    "from sklearn.preprocessing import StandardScaler\n",
    "\n",
    "scaler = StandardScaler()\n",
    "new_data[\"Amount_Scaled\"] = scaler.fit_transform(new_data[[\"Amount\"]])\n",
    "new_data.drop(columns=[\"Amount\"], inplace=True)\n",
    "X = new_data.drop(columns=[\"Class\"])\n",
    "y = new_data[\"Class\"]"
   ]
  },
  {
   "cell_type": "markdown",
   "id": "f6036a52",
   "metadata": {},
   "source": [
    "## 4. 학습 데이터와 테스트 데이터 분할\n",
    "### train_test_split을 사용해 학습셋:테스트셋 비율을 8:2로 나누고,\n",
    "### stratify=y 옵션으로 클래스 비율 유지, 분할된 데이터의 Class 비율을 출력하시오.\n",
    "### (random_state는 42로 설정)"
   ]
  },
  {
   "cell_type": "code",
   "execution_count": 19,
   "id": "84450419",
   "metadata": {},
   "outputs": [
    {
     "name": "stdout",
     "output_type": "stream",
     "text": [
      "train data ratio: Class\n",
      "0    0.953056\n",
      "1    0.046944\n",
      "Name: proportion, dtype: float64\n",
      " test data ratio: Class\n",
      "0    0.953311\n",
      "1    0.046689\n",
      "Name: proportion, dtype: float64\n"
     ]
    }
   ],
   "source": [
    "from sklearn.model_selection import train_test_split\n",
    "\n",
    "X_train, X_test, y_train, y_test = train_test_split(X, y, test_size=0.2, stratify=y, random_state=42)\n",
    "print(\"train data ratio:\", y_train.value_counts(normalize=True))\n",
    "print(\" test data ratio:\", y_test.value_counts(normalize=True))"
   ]
  },
  {
   "cell_type": "markdown",
   "id": "96a31329",
   "metadata": {},
   "source": [
    "## 5. SMOTE 적용\n",
    "### 학습 데이터(X_train)에 SMOTE를 적용하여 소수 클래스(사기 거래)를\n",
    "### 오버샘플링하시오. (왜 SMOTE를 적용해야하는지까지 서술하시오.)\n",
    "### SMOTE 적용 전후의 사기 거래 건수를 출력하시오."
   ]
  },
  {
   "cell_type": "code",
   "execution_count": 22,
   "id": "0b1df04f",
   "metadata": {},
   "outputs": [
    {
     "name": "stdout",
     "output_type": "stream",
     "text": [
      "Before SMOTE Counter({0: 7999, 1: 394})\n",
      "After SMOTE Counter({0: 7999, 1: 7999})\n"
     ]
    }
   ],
   "source": [
    "from imblearn.over_sampling import SMOTE\n",
    "from collections import Counter\n",
    "\n",
    "smote = SMOTE(random_state=42)\n",
    "print(\"Before SMOTE\", Counter(y_train))\n",
    "Xt_smote, yt_smote = smote.fit_resample(X_train, y_train)\n",
    "print(\"After SMOTE\", Counter(yt_smote))"
   ]
  },
  {
   "cell_type": "markdown",
   "id": "1b052b18",
   "metadata": {},
   "source": [
    "## 6. 모델 학습\n",
    "### 적합한 ML 모델을 선정하여 모델을 학습시키고,\n",
    "### 테스트셋에서 예측값(predict)과 예측 확률(predict_proba)을 출력하시오.\n",
    "### classification_report로 Precision, Recall, F1-score를 확인하시오.\n",
    "### 그리고 average_precision_score로 PR-AUC를 계산하여 출력하시오."
   ]
  },
  {
   "cell_type": "code",
   "execution_count": null,
   "id": "a4185978",
   "metadata": {},
   "outputs": [
    {
     "name": "stdout",
     "output_type": "stream",
     "text": [
      "              precision    recall  f1-score   support\n",
      "\n",
      "           0       1.00      0.99      0.99      2001\n",
      "           1       0.82      0.93      0.87        98\n",
      "\n",
      "    accuracy                           0.99      2099\n",
      "   macro avg       0.91      0.96      0.93      2099\n",
      "weighted avg       0.99      0.99      0.99      2099\n",
      "\n",
      "0.9550235754867127\n"
     ]
    }
   ],
   "source": [
    "import numpy\n",
    "from sklearn.linear_model import LogisticRegression\n",
    "from sklearn.metrics import classification_report, average_precision_score\n",
    "\n",
    "model = LogisticRegression(max_iter=10000, random_state=42)\n",
    "model.fit(Xt_smote, yt_smote)\n",
    "prediction = model.predict(X_test)\n",
    "print(classification_report(y_test, prediction))\n",
    "prob = model.predict_proba(X_test)[:, 1]\n",
    "print(average_precision_score(y_test, prob))"
   ]
  },
  {
   "cell_type": "markdown",
   "id": "4ca110cb",
   "metadata": {},
   "source": [
    "## 7. 최종 성능 평가\n",
    "### 모델 선정, 하이퍼파라미터 튜닝과 Threshold 조정 등을 통해 최종 모델이\n",
    "### 목표 Recall ≥ 0.80, F1 ≥ 0.88, PR-AUC ≥ 0.90 을 달성하였는지\n",
    "### 여부를 작성하시오.(Class 0, 1 둘 다!)\n",
    "### 달성하지 못했다면 추가로 어떤 방법을 시도할지 간략히 제안하시오."
   ]
  },
  {
   "cell_type": "code",
   "execution_count": 30,
   "id": "fb437c5c",
   "metadata": {},
   "outputs": [
    {
     "name": "stdout",
     "output_type": "stream",
     "text": [
      "0.9988602046601736\n"
     ]
    }
   ],
   "source": [
    "print(average_precision_score(1 - y_test, 1 - prob))"
   ]
  }
 ],
 "metadata": {
  "kernelspec": {
   "display_name": "base",
   "language": "python",
   "name": "python3"
  },
  "language_info": {
   "codemirror_mode": {
    "name": "ipython",
    "version": 3
   },
   "file_extension": ".py",
   "mimetype": "text/x-python",
   "name": "python",
   "nbconvert_exporter": "python",
   "pygments_lexer": "ipython3",
   "version": "3.13.5"
  }
 },
 "nbformat": 4,
 "nbformat_minor": 5
}
